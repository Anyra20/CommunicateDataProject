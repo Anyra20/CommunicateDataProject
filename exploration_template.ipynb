{
 "cells": [
  {
   "cell_type": "markdown",
   "metadata": {},
   "source": [
    "# PISA 2012 Exploration \n",
    "## by Maryna Misyura\n",
    "\n",
    "## Preliminary Wrangling\n",
    "\n",
    "> This document explores a dataset containing PISA 2012 survey of students' skills and knowledge as they\n",
    "approach the end of compulsory education. It is not a conventional school test."
   ]
  },
  {
   "cell_type": "code",
   "execution_count": 1,
   "metadata": {},
   "outputs": [],
   "source": [
    "# import all packages and set plots to be embedded inline\n",
    "import numpy as np\n",
    "import pandas as pd\n",
    "import matplotlib.pyplot as plt\n",
    "import seaborn as sb\n",
    "\n",
    "%matplotlib inline"
   ]
  },
  {
   "cell_type": "markdown",
   "metadata": {},
   "source": [
    "> Load in your dataset and describe its properties through the questions below.\n",
    "Try and motivate your exploration goals through this section.<br>\n",
    "Dataset is too big. I'll have to filter data and choose only some columns to analize.<br>\n",
    "First choice for filter column is county"
   ]
  },
  {
   "cell_type": "code",
   "execution_count": 31,
   "metadata": {},
   "outputs": [
    {
     "name": "stderr",
     "output_type": "stream",
     "text": [
      "C:\\ProgramData\\Anaconda3\\lib\\site-packages\\IPython\\core\\interactiveshell.py:3063: DtypeWarning: Columns (15,16,17,21,22,23,24,25,26,30,31,36,37,45,65,123,155,156,157,158,159,160,161,162,163,164,165,166,167,168,169,170,171,284,285,286,287,288,289,290,291,292,293,294,295,296,297,298,299,300,301,302,303,307,308,309,310,311,312,313,314,315,316,317,318,319,320,321,322,323,324,325,326,327,328,329,330,331,332,333,334,335,336,337,338,339,340,341,342,343,344,345,346,347,348,349,350,351,352,353,354,355,356,357,376,377,378,379,380,381,382,383,384,385,386,387,388,389,390,391,392,393,394,395,396,397,398,399,400,401,402,403,475) have mixed types.Specify dtype option on import or set low_memory=False.\n",
      "  interactivity=interactivity, compiler=compiler, result=result)\n"
     ]
    }
   ],
   "source": [
    "# load in the dataset into a pandas dataframe, print statistics\n",
    "#encoding='latin-1'\n",
    "pisa = pd.read_csv('pisa2012.csv', encoding = \"ISO-8859-1\", index_col=0)\n",
    "#, usecols =['CNT', 'ST03Q01', 'ST03Q02', 'ST04Q01', 'ISCEDD', 'ISCEDL', 'ISCEDO'])\n"
   ]
  },
  {
   "cell_type": "code",
   "execution_count": 103,
   "metadata": {},
   "outputs": [
    {
     "data": {
      "text/plain": [
       "array(['Albania', 'United Arab Emirates', 'Argentina', 'Australia',\n",
       "       'Austria', 'Belgium', 'Bulgaria', 'Brazil', 'Canada',\n",
       "       'Switzerland', 'Chile', 'Colombia', 'Costa Rica', 'Czech Republic',\n",
       "       'Germany', 'Denmark', 'Spain', 'Estonia', 'Finland', 'France',\n",
       "       'United Kingdom', 'Greece', 'Hong Kong-China', 'Croatia',\n",
       "       'Hungary', 'Indonesia', 'Ireland', 'Iceland', 'Israel', 'Italy',\n",
       "       'Jordan', 'Japan', 'Kazakhstan', 'Korea', 'Liechtenstein',\n",
       "       'Lithuania', 'Luxembourg', 'Latvia', 'Macao-China', 'Mexico',\n",
       "       'Montenegro', 'Malaysia', 'Netherlands', 'Norway', 'New Zealand',\n",
       "       'Peru', 'Poland', 'Portugal', 'Qatar', 'China-Shanghai',\n",
       "       'Perm(Russian Federation)', 'Florida (USA)', 'Connecticut (USA)',\n",
       "       'Massachusetts (USA)', 'Romania', 'Russian Federation',\n",
       "       'Singapore', 'Serbia', 'Slovak Republic', 'Slovenia', 'Sweden',\n",
       "       'Chinese Taipei', 'Thailand', 'Tunisia', 'Turkey', 'Uruguay',\n",
       "       'United States of America', 'Vietnam'], dtype=object)"
      ]
     },
     "execution_count": 103,
     "metadata": {},
     "output_type": "execute_result"
    }
   ],
   "source": [
    "pisa.CNT.unique()"
   ]
  },
  {
   "cell_type": "code",
   "execution_count": 102,
   "metadata": {},
   "outputs": [
    {
     "data": {
      "text/plain": [
       "(635, 2)"
      ]
     },
     "execution_count": 102,
     "metadata": {},
     "output_type": "execute_result"
    }
   ],
   "source": []
  },
  {
   "cell_type": "code",
   "execution_count": 104,
   "metadata": {},
   "outputs": [
    {
     "name": "stdout",
     "output_type": "stream",
     "text": [
      "(10294, 635)\n",
      "(21544, 635)\n"
     ]
    }
   ],
   "source": [
    "pisa_usa = pisa[pisa.NC == 'United States of America ']\n",
    "print(pisa_usa.shape)\n",
    "pisa_canada = pisa[pisa.NC == 'Canada ']\n",
    "print(pisa_canada.shape)"
   ]
  },
  {
   "cell_type": "code",
   "execution_count": 88,
   "metadata": {},
   "outputs": [
    {
     "data": {
      "text/plain": [
       "(21544, 635)"
      ]
     },
     "execution_count": 88,
     "metadata": {},
     "output_type": "execute_result"
    }
   ],
   "source": [
    "pisa[pisa.NC == 'Canada '].shape"
   ]
  },
  {
   "cell_type": "code",
   "execution_count": 26,
   "metadata": {},
   "outputs": [
    {
     "data": {
      "text/html": [
       "<div>\n",
       "<style scoped>\n",
       "    .dataframe tbody tr th:only-of-type {\n",
       "        vertical-align: middle;\n",
       "    }\n",
       "\n",
       "    .dataframe tbody tr th {\n",
       "        vertical-align: top;\n",
       "    }\n",
       "\n",
       "    .dataframe thead th {\n",
       "        text-align: right;\n",
       "    }\n",
       "</style>\n",
       "<table border=\"1\" class=\"dataframe\">\n",
       "  <thead>\n",
       "    <tr style=\"text-align: right;\">\n",
       "      <th></th>\n",
       "      <th>ST07Q03</th>\n",
       "      <th>STIDSTD</th>\n",
       "      <th>ST01Q01</th>\n",
       "      <th>ST02Q01</th>\n",
       "      <th>ST05Q01</th>\n",
       "      <th>ST06Q01</th>\n",
       "      <th>ST07Q01</th>\n",
       "    </tr>\n",
       "  </thead>\n",
       "  <tbody>\n",
       "    <tr>\n",
       "      <th>475553</th>\n",
       "      <td>No, never</td>\n",
       "      <td>1</td>\n",
       "      <td>10</td>\n",
       "      <td>1.0</td>\n",
       "      <td>Yes, for more than one year</td>\n",
       "      <td>5.0</td>\n",
       "      <td>No, never</td>\n",
       "    </tr>\n",
       "    <tr>\n",
       "      <th>475554</th>\n",
       "      <td>No, never</td>\n",
       "      <td>2</td>\n",
       "      <td>10</td>\n",
       "      <td>1.0</td>\n",
       "      <td>Yes, for more than one year</td>\n",
       "      <td>5.0</td>\n",
       "      <td>No, never</td>\n",
       "    </tr>\n",
       "    <tr>\n",
       "      <th>475555</th>\n",
       "      <td>NaN</td>\n",
       "      <td>3</td>\n",
       "      <td>9</td>\n",
       "      <td>1.0</td>\n",
       "      <td>Yes, for more than one year</td>\n",
       "      <td>8.0</td>\n",
       "      <td>Yes, once</td>\n",
       "    </tr>\n",
       "    <tr>\n",
       "      <th>475556</th>\n",
       "      <td>No, never</td>\n",
       "      <td>4</td>\n",
       "      <td>11</td>\n",
       "      <td>1.0</td>\n",
       "      <td>Yes, for more than one year</td>\n",
       "      <td>5.0</td>\n",
       "      <td>No, never</td>\n",
       "    </tr>\n",
       "    <tr>\n",
       "      <th>475557</th>\n",
       "      <td>No, never</td>\n",
       "      <td>5</td>\n",
       "      <td>10</td>\n",
       "      <td>1.0</td>\n",
       "      <td>Yes, for more than one year</td>\n",
       "      <td>6.0</td>\n",
       "      <td>No, never</td>\n",
       "    </tr>\n",
       "  </tbody>\n",
       "</table>\n",
       "</div>"
      ],
      "text/plain": [
       "          ST07Q03  STIDSTD  ST01Q01  ST02Q01                      ST05Q01  \\\n",
       "475553  No, never        1       10      1.0  Yes, for more than one year   \n",
       "475554  No, never        2       10      1.0  Yes, for more than one year   \n",
       "475555        NaN        3        9      1.0  Yes, for more than one year   \n",
       "475556  No, never        4       11      1.0  Yes, for more than one year   \n",
       "475557  No, never        5       10      1.0  Yes, for more than one year   \n",
       "\n",
       "        ST06Q01    ST07Q01  \n",
       "475553      5.0  No, never  \n",
       "475554      5.0  No, never  \n",
       "475555      8.0  Yes, once  \n",
       "475556      5.0  No, never  \n",
       "475557      6.0  No, never  "
      ]
     },
     "execution_count": 26,
     "metadata": {},
     "output_type": "execute_result"
    }
   ],
   "source": [
    "pisa_usa[['ST07Q03', 'STIDSTD', 'ST01Q01', 'ST02Q01', 'ST05Q01', 'ST06Q01', 'ST07Q01']].head(5)"
   ]
  },
  {
   "cell_type": "code",
   "execution_count": null,
   "metadata": {},
   "outputs": [],
   "source": [
    "\"PV1MATH\",\"Plausible value 1 in mathematics\"\n",
    "\"PV1READ\",\"Plausible value 1 in reading\"\n",
    "\"PV1SCIE\",\"Plausible value 1 in science\"\n",
    "\n"
   ]
  },
  {
   "cell_type": "code",
   "execution_count": 101,
   "metadata": {},
   "outputs": [
    {
     "ename": "AttributeError",
     "evalue": "'DataFrame' object has no attribute 'PV1CMAT'",
     "output_type": "error",
     "traceback": [
      "\u001b[1;31m---------------------------------------------------------------------------\u001b[0m",
      "\u001b[1;31mAttributeError\u001b[0m                            Traceback (most recent call last)",
      "\u001b[1;32m<ipython-input-101-de84261995ba>\u001b[0m in \u001b[0;36m<module>\u001b[1;34m\u001b[0m\n\u001b[1;32m----> 1\u001b[1;33m \u001b[0mpisa_usa\u001b[0m\u001b[1;33m.\u001b[0m\u001b[0mPV1CMAT\u001b[0m\u001b[1;33m.\u001b[0m\u001b[0mvalue_counts\u001b[0m\u001b[1;33m(\u001b[0m\u001b[1;33m)\u001b[0m\u001b[1;33m\u001b[0m\u001b[1;33m\u001b[0m\u001b[0m\n\u001b[0m",
      "\u001b[1;32mC:\\ProgramData\\Anaconda3\\lib\\site-packages\\pandas\\core\\generic.py\u001b[0m in \u001b[0;36m__getattr__\u001b[1;34m(self, name)\u001b[0m\n\u001b[0;32m   5272\u001b[0m             \u001b[1;32mif\u001b[0m \u001b[0mself\u001b[0m\u001b[1;33m.\u001b[0m\u001b[0m_info_axis\u001b[0m\u001b[1;33m.\u001b[0m\u001b[0m_can_hold_identifiers_and_holds_name\u001b[0m\u001b[1;33m(\u001b[0m\u001b[0mname\u001b[0m\u001b[1;33m)\u001b[0m\u001b[1;33m:\u001b[0m\u001b[1;33m\u001b[0m\u001b[1;33m\u001b[0m\u001b[0m\n\u001b[0;32m   5273\u001b[0m                 \u001b[1;32mreturn\u001b[0m \u001b[0mself\u001b[0m\u001b[1;33m[\u001b[0m\u001b[0mname\u001b[0m\u001b[1;33m]\u001b[0m\u001b[1;33m\u001b[0m\u001b[1;33m\u001b[0m\u001b[0m\n\u001b[1;32m-> 5274\u001b[1;33m             \u001b[1;32mreturn\u001b[0m \u001b[0mobject\u001b[0m\u001b[1;33m.\u001b[0m\u001b[0m__getattribute__\u001b[0m\u001b[1;33m(\u001b[0m\u001b[0mself\u001b[0m\u001b[1;33m,\u001b[0m \u001b[0mname\u001b[0m\u001b[1;33m)\u001b[0m\u001b[1;33m\u001b[0m\u001b[1;33m\u001b[0m\u001b[0m\n\u001b[0m\u001b[0;32m   5275\u001b[0m \u001b[1;33m\u001b[0m\u001b[0m\n\u001b[0;32m   5276\u001b[0m     \u001b[1;32mdef\u001b[0m \u001b[0m__setattr__\u001b[0m\u001b[1;33m(\u001b[0m\u001b[0mself\u001b[0m\u001b[1;33m,\u001b[0m \u001b[0mname\u001b[0m\u001b[1;33m:\u001b[0m \u001b[0mstr\u001b[0m\u001b[1;33m,\u001b[0m \u001b[0mvalue\u001b[0m\u001b[1;33m)\u001b[0m \u001b[1;33m->\u001b[0m \u001b[1;32mNone\u001b[0m\u001b[1;33m:\u001b[0m\u001b[1;33m\u001b[0m\u001b[1;33m\u001b[0m\u001b[0m\n",
      "\u001b[1;31mAttributeError\u001b[0m: 'DataFrame' object has no attribute 'PV1CMAT'"
     ]
    }
   ],
   "source": [
    "pisa_usa.PV1CMAT.value_counts()"
   ]
  },
  {
   "cell_type": "code",
   "execution_count": 98,
   "metadata": {},
   "outputs": [
    {
     "data": {
      "text/plain": [
       "array(['Language of the test', 'Other language', nan], dtype=object)"
      ]
     },
     "execution_count": 98,
     "metadata": {},
     "output_type": "execute_result"
    }
   ],
   "source": [
    "pisa_usa.ST25Q01.unique()"
   ]
  },
  {
   "cell_type": "code",
   "execution_count": 95,
   "metadata": {},
   "outputs": [
    {
     "ename": "SyntaxError",
     "evalue": "invalid syntax (<ipython-input-95-13e81a43bbc9>, line 1)",
     "output_type": "error",
     "traceback": [
      "\u001b[1;36m  File \u001b[1;32m\"<ipython-input-95-13e81a43bbc9>\"\u001b[1;36m, line \u001b[1;32m1\u001b[0m\n\u001b[1;33m    'CNT' Country\u001b[0m\n\u001b[1;37m                ^\u001b[0m\n\u001b[1;31mSyntaxError\u001b[0m\u001b[1;31m:\u001b[0m invalid syntax\n"
     ]
    }
   ],
   "source": [
    "'CNT' Country\n",
    "ST03Q01,\"Birth - Month\"\n",
    "\"ST03Q02\",\"Birth -Year\"\n",
    "\"ST04Q01\",\"Gender\"\n",
    "\"ST01Q01\",\"International Grade\"\n",
    "\n",
    "\"ST20Q01\",\"Country of Birth International - Self\"\n",
    "\"ST20Q02\",\"Country of Birth International - Mother\"\n",
    "\"ST20Q03\",\"Country of Birth International - Father\"\n",
    "\"ST21Q01\",\"Age of arrival in <country of test>\"\n",
    "\"ST25Q01\",\"International Language at Home\"\n",
    "\"EC07Q01\",\"Language spoken - Mother\"\n",
    "\"EC07Q02\",\"Language spoken - Father\"\n",
    "\n",
    "\"ST49Q07\",\"Math Behaviour - Computer programming\"\n",
    "\n",
    "\n",
    "\"PROGN\",\"Unique national study programme code\" (grade 7-9, grade 10-12)\n",
    "\n",
    "\n",
    "\"ST08Q01\",\"Truancy - Late for School\"\n",
    "\"ST09Q01\",\"Truancy - Skip whole school day\"\n",
    "\"ST115Q01\",\"Truancy - Skip classes within school day\""
   ]
  },
  {
   "cell_type": "code",
   "execution_count": 6,
   "metadata": {},
   "outputs": [
    {
     "data": {
      "text/html": [
       "<div>\n",
       "<style scoped>\n",
       "    .dataframe tbody tr th:only-of-type {\n",
       "        vertical-align: middle;\n",
       "    }\n",
       "\n",
       "    .dataframe tbody tr th {\n",
       "        vertical-align: top;\n",
       "    }\n",
       "\n",
       "    .dataframe thead th {\n",
       "        text-align: right;\n",
       "    }\n",
       "</style>\n",
       "<table border=\"1\" class=\"dataframe\">\n",
       "  <thead>\n",
       "    <tr style=\"text-align: right;\">\n",
       "      <th></th>\n",
       "      <th>Unnamed: 0</th>\n",
       "      <th>CNT</th>\n",
       "      <th>SUBNATIO</th>\n",
       "      <th>STRATUM</th>\n",
       "      <th>OECD</th>\n",
       "      <th>NC</th>\n",
       "      <th>SCHOOLID</th>\n",
       "      <th>STIDSTD</th>\n",
       "      <th>ST01Q01</th>\n",
       "      <th>ST02Q01</th>\n",
       "      <th>...</th>\n",
       "      <th>W_FSTR75</th>\n",
       "      <th>W_FSTR76</th>\n",
       "      <th>W_FSTR77</th>\n",
       "      <th>W_FSTR78</th>\n",
       "      <th>W_FSTR79</th>\n",
       "      <th>W_FSTR80</th>\n",
       "      <th>WVARSTRR</th>\n",
       "      <th>VAR_UNIT</th>\n",
       "      <th>SENWGT_STU</th>\n",
       "      <th>VER_STU</th>\n",
       "    </tr>\n",
       "  </thead>\n",
       "  <tbody>\n",
       "    <tr>\n",
       "      <th>0</th>\n",
       "      <td>1</td>\n",
       "      <td>Albania</td>\n",
       "      <td>80000</td>\n",
       "      <td>ALB0006</td>\n",
       "      <td>Non-OECD</td>\n",
       "      <td>Albania</td>\n",
       "      <td>1</td>\n",
       "      <td>1</td>\n",
       "      <td>10</td>\n",
       "      <td>1.0</td>\n",
       "      <td>...</td>\n",
       "      <td>13.7954</td>\n",
       "      <td>13.9235</td>\n",
       "      <td>13.1249</td>\n",
       "      <td>13.1249</td>\n",
       "      <td>4.3389</td>\n",
       "      <td>13.0829</td>\n",
       "      <td>19</td>\n",
       "      <td>1</td>\n",
       "      <td>0.2098</td>\n",
       "      <td>22NOV13</td>\n",
       "    </tr>\n",
       "    <tr>\n",
       "      <th>1</th>\n",
       "      <td>2</td>\n",
       "      <td>Albania</td>\n",
       "      <td>80000</td>\n",
       "      <td>ALB0006</td>\n",
       "      <td>Non-OECD</td>\n",
       "      <td>Albania</td>\n",
       "      <td>1</td>\n",
       "      <td>2</td>\n",
       "      <td>10</td>\n",
       "      <td>1.0</td>\n",
       "      <td>...</td>\n",
       "      <td>13.7954</td>\n",
       "      <td>13.9235</td>\n",
       "      <td>13.1249</td>\n",
       "      <td>13.1249</td>\n",
       "      <td>4.3389</td>\n",
       "      <td>13.0829</td>\n",
       "      <td>19</td>\n",
       "      <td>1</td>\n",
       "      <td>0.2098</td>\n",
       "      <td>22NOV13</td>\n",
       "    </tr>\n",
       "    <tr>\n",
       "      <th>2</th>\n",
       "      <td>3</td>\n",
       "      <td>Albania</td>\n",
       "      <td>80000</td>\n",
       "      <td>ALB0006</td>\n",
       "      <td>Non-OECD</td>\n",
       "      <td>Albania</td>\n",
       "      <td>1</td>\n",
       "      <td>3</td>\n",
       "      <td>9</td>\n",
       "      <td>1.0</td>\n",
       "      <td>...</td>\n",
       "      <td>12.7307</td>\n",
       "      <td>12.7307</td>\n",
       "      <td>12.7307</td>\n",
       "      <td>12.7307</td>\n",
       "      <td>4.2436</td>\n",
       "      <td>12.7307</td>\n",
       "      <td>19</td>\n",
       "      <td>1</td>\n",
       "      <td>0.1999</td>\n",
       "      <td>22NOV13</td>\n",
       "    </tr>\n",
       "    <tr>\n",
       "      <th>3</th>\n",
       "      <td>4</td>\n",
       "      <td>Albania</td>\n",
       "      <td>80000</td>\n",
       "      <td>ALB0006</td>\n",
       "      <td>Non-OECD</td>\n",
       "      <td>Albania</td>\n",
       "      <td>1</td>\n",
       "      <td>4</td>\n",
       "      <td>9</td>\n",
       "      <td>1.0</td>\n",
       "      <td>...</td>\n",
       "      <td>12.7307</td>\n",
       "      <td>12.7307</td>\n",
       "      <td>12.7307</td>\n",
       "      <td>12.7307</td>\n",
       "      <td>4.2436</td>\n",
       "      <td>12.7307</td>\n",
       "      <td>19</td>\n",
       "      <td>1</td>\n",
       "      <td>0.1999</td>\n",
       "      <td>22NOV13</td>\n",
       "    </tr>\n",
       "    <tr>\n",
       "      <th>4</th>\n",
       "      <td>5</td>\n",
       "      <td>Albania</td>\n",
       "      <td>80000</td>\n",
       "      <td>ALB0006</td>\n",
       "      <td>Non-OECD</td>\n",
       "      <td>Albania</td>\n",
       "      <td>1</td>\n",
       "      <td>5</td>\n",
       "      <td>9</td>\n",
       "      <td>1.0</td>\n",
       "      <td>...</td>\n",
       "      <td>12.7307</td>\n",
       "      <td>12.7307</td>\n",
       "      <td>12.7307</td>\n",
       "      <td>12.7307</td>\n",
       "      <td>4.2436</td>\n",
       "      <td>12.7307</td>\n",
       "      <td>19</td>\n",
       "      <td>1</td>\n",
       "      <td>0.1999</td>\n",
       "      <td>22NOV13</td>\n",
       "    </tr>\n",
       "  </tbody>\n",
       "</table>\n",
       "<p>5 rows × 636 columns</p>\n",
       "</div>"
      ],
      "text/plain": [
       "   Unnamed: 0      CNT  SUBNATIO  STRATUM      OECD       NC  SCHOOLID  \\\n",
       "0           1  Albania     80000  ALB0006  Non-OECD  Albania         1   \n",
       "1           2  Albania     80000  ALB0006  Non-OECD  Albania         1   \n",
       "2           3  Albania     80000  ALB0006  Non-OECD  Albania         1   \n",
       "3           4  Albania     80000  ALB0006  Non-OECD  Albania         1   \n",
       "4           5  Albania     80000  ALB0006  Non-OECD  Albania         1   \n",
       "\n",
       "   STIDSTD  ST01Q01  ST02Q01  ...  W_FSTR75  W_FSTR76 W_FSTR77 W_FSTR78  \\\n",
       "0        1       10      1.0  ...   13.7954   13.9235  13.1249  13.1249   \n",
       "1        2       10      1.0  ...   13.7954   13.9235  13.1249  13.1249   \n",
       "2        3        9      1.0  ...   12.7307   12.7307  12.7307  12.7307   \n",
       "3        4        9      1.0  ...   12.7307   12.7307  12.7307  12.7307   \n",
       "4        5        9      1.0  ...   12.7307   12.7307  12.7307  12.7307   \n",
       "\n",
       "   W_FSTR79 W_FSTR80 WVARSTRR VAR_UNIT SENWGT_STU  VER_STU  \n",
       "0    4.3389  13.0829       19        1     0.2098  22NOV13  \n",
       "1    4.3389  13.0829       19        1     0.2098  22NOV13  \n",
       "2    4.2436  12.7307       19        1     0.1999  22NOV13  \n",
       "3    4.2436  12.7307       19        1     0.1999  22NOV13  \n",
       "4    4.2436  12.7307       19        1     0.1999  22NOV13  \n",
       "\n",
       "[5 rows x 636 columns]"
      ]
     },
     "execution_count": 6,
     "metadata": {},
     "output_type": "execute_result"
    }
   ],
   "source": [
    "pisa.head()"
   ]
  },
  {
   "cell_type": "code",
   "execution_count": 58,
   "metadata": {},
   "outputs": [
    {
     "data": {
      "text/plain": [
       "array(['Albania', 'United Arab Emirates ', 'Argentina', 'Australia',\n",
       "       'Austria', 'Belgium', 'Bulgaria ', 'Brazil ', 'Canada ',\n",
       "       'Switzerland', 'Chile', 'Colombia ', 'Costa Rica ',\n",
       "       'Czech Republic ', 'Germany', 'Denmark', 'Spain', 'Estonia',\n",
       "       'Finland', 'France ', 'United Kingdom (excl.Scotland) ',\n",
       "       'United Kingdom (Scotland)', 'Greece ', 'Hong Kong-China',\n",
       "       'Croatia', 'Hungary', 'Indonesia', 'Ireland', 'Iceland', 'Israel ',\n",
       "       'Italy', 'Jordan ', 'Japan', 'Kazakhstan ', 'Republic of Korea',\n",
       "       'Liechtenstein', 'Lithuania', 'Luxembourg ', 'Latvia ',\n",
       "       'Macao-China', 'Mexico ', 'Montenegro ', 'Malaysia ',\n",
       "       'Netherlands', 'Norway ', 'New Zealand', 'Peru ', 'Poland ',\n",
       "       'Portugal ', 'Qatar', 'China (Shanghai) ',\n",
       "       'Perm (Russian Federation)', 'United States of America ',\n",
       "       'Romania', 'Russian Federation ', 'Singapore', 'Serbia ',\n",
       "       'Slovak Republic', 'Slovenia ', 'Sweden ', 'Chinese Taipei ',\n",
       "       'Thailand ', 'Tunisia', 'Turkey ', 'Uruguay', 'Viet Nam '],\n",
       "      dtype=object)"
      ]
     },
     "execution_count": 58,
     "metadata": {},
     "output_type": "execute_result"
    }
   ],
   "source": [
    "pisa.NC.unique()"
   ]
  },
  {
   "cell_type": "code",
   "execution_count": 55,
   "metadata": {},
   "outputs": [
    {
     "data": {
      "text/html": [
       "<div>\n",
       "<style scoped>\n",
       "    .dataframe tbody tr th:only-of-type {\n",
       "        vertical-align: middle;\n",
       "    }\n",
       "\n",
       "    .dataframe tbody tr th {\n",
       "        vertical-align: top;\n",
       "    }\n",
       "\n",
       "    .dataframe thead th {\n",
       "        text-align: right;\n",
       "    }\n",
       "</style>\n",
       "<table border=\"1\" class=\"dataframe\">\n",
       "  <thead>\n",
       "    <tr style=\"text-align: right;\">\n",
       "      <th></th>\n",
       "      <th>CNT</th>\n",
       "      <th>SUBNATIO</th>\n",
       "      <th>STRATUM</th>\n",
       "      <th>OECD</th>\n",
       "      <th>NC</th>\n",
       "      <th>SCHOOLID</th>\n",
       "      <th>STIDSTD</th>\n",
       "      <th>ST01Q01</th>\n",
       "      <th>ST02Q01</th>\n",
       "      <th>ST03Q01</th>\n",
       "      <th>...</th>\n",
       "      <th>W_FSTR75</th>\n",
       "      <th>W_FSTR76</th>\n",
       "      <th>W_FSTR77</th>\n",
       "      <th>W_FSTR78</th>\n",
       "      <th>W_FSTR79</th>\n",
       "      <th>W_FSTR80</th>\n",
       "      <th>WVARSTRR</th>\n",
       "      <th>VAR_UNIT</th>\n",
       "      <th>SENWGT_STU</th>\n",
       "      <th>VER_STU</th>\n",
       "    </tr>\n",
       "  </thead>\n",
       "  <tbody>\n",
       "    <tr>\n",
       "      <th>410749</th>\n",
       "      <td>Massachusetts (USA)</td>\n",
       "      <td>8400300</td>\n",
       "      <td>QUC9797</td>\n",
       "      <td>Non-OECD</td>\n",
       "      <td>United States of America</td>\n",
       "      <td>1</td>\n",
       "      <td>1</td>\n",
       "      <td>10</td>\n",
       "      <td>1.0</td>\n",
       "      <td>1</td>\n",
       "      <td>...</td>\n",
       "      <td>60.0415</td>\n",
       "      <td>60.0415</td>\n",
       "      <td>24.4250</td>\n",
       "      <td>24.4250</td>\n",
       "      <td>24.4250</td>\n",
       "      <td>24.4250</td>\n",
       "      <td>38</td>\n",
       "      <td>2</td>\n",
       "      <td>0.7813</td>\n",
       "      <td>22NOV13</td>\n",
       "    </tr>\n",
       "    <tr>\n",
       "      <th>410750</th>\n",
       "      <td>Massachusetts (USA)</td>\n",
       "      <td>8400300</td>\n",
       "      <td>QUC9797</td>\n",
       "      <td>Non-OECD</td>\n",
       "      <td>United States of America</td>\n",
       "      <td>1</td>\n",
       "      <td>2</td>\n",
       "      <td>10</td>\n",
       "      <td>1.0</td>\n",
       "      <td>11</td>\n",
       "      <td>...</td>\n",
       "      <td>60.0415</td>\n",
       "      <td>60.0415</td>\n",
       "      <td>24.4250</td>\n",
       "      <td>24.4250</td>\n",
       "      <td>24.4250</td>\n",
       "      <td>24.4250</td>\n",
       "      <td>38</td>\n",
       "      <td>2</td>\n",
       "      <td>0.7813</td>\n",
       "      <td>22NOV13</td>\n",
       "    </tr>\n",
       "    <tr>\n",
       "      <th>410751</th>\n",
       "      <td>Massachusetts (USA)</td>\n",
       "      <td>8400300</td>\n",
       "      <td>QUC9797</td>\n",
       "      <td>Non-OECD</td>\n",
       "      <td>United States of America</td>\n",
       "      <td>1</td>\n",
       "      <td>3</td>\n",
       "      <td>10</td>\n",
       "      <td>1.0</td>\n",
       "      <td>4</td>\n",
       "      <td>...</td>\n",
       "      <td>60.6444</td>\n",
       "      <td>62.5699</td>\n",
       "      <td>20.2148</td>\n",
       "      <td>20.2148</td>\n",
       "      <td>20.2148</td>\n",
       "      <td>19.5218</td>\n",
       "      <td>38</td>\n",
       "      <td>2</td>\n",
       "      <td>0.7094</td>\n",
       "      <td>22NOV13</td>\n",
       "    </tr>\n",
       "    <tr>\n",
       "      <th>410752</th>\n",
       "      <td>Massachusetts (USA)</td>\n",
       "      <td>8400300</td>\n",
       "      <td>QUC9797</td>\n",
       "      <td>Non-OECD</td>\n",
       "      <td>United States of America</td>\n",
       "      <td>1</td>\n",
       "      <td>4</td>\n",
       "      <td>10</td>\n",
       "      <td>1.0</td>\n",
       "      <td>8</td>\n",
       "      <td>...</td>\n",
       "      <td>60.6444</td>\n",
       "      <td>62.5699</td>\n",
       "      <td>20.2148</td>\n",
       "      <td>20.2148</td>\n",
       "      <td>20.2148</td>\n",
       "      <td>19.5218</td>\n",
       "      <td>38</td>\n",
       "      <td>2</td>\n",
       "      <td>0.7094</td>\n",
       "      <td>22NOV13</td>\n",
       "    </tr>\n",
       "    <tr>\n",
       "      <th>410753</th>\n",
       "      <td>Massachusetts (USA)</td>\n",
       "      <td>8400300</td>\n",
       "      <td>QUC9797</td>\n",
       "      <td>Non-OECD</td>\n",
       "      <td>United States of America</td>\n",
       "      <td>1</td>\n",
       "      <td>5</td>\n",
       "      <td>10</td>\n",
       "      <td>1.0</td>\n",
       "      <td>4</td>\n",
       "      <td>...</td>\n",
       "      <td>60.0415</td>\n",
       "      <td>60.0415</td>\n",
       "      <td>24.4250</td>\n",
       "      <td>24.4250</td>\n",
       "      <td>24.4250</td>\n",
       "      <td>24.4250</td>\n",
       "      <td>38</td>\n",
       "      <td>2</td>\n",
       "      <td>0.7813</td>\n",
       "      <td>22NOV13</td>\n",
       "    </tr>\n",
       "    <tr>\n",
       "      <th>410754</th>\n",
       "      <td>Massachusetts (USA)</td>\n",
       "      <td>8400300</td>\n",
       "      <td>QUC9797</td>\n",
       "      <td>Non-OECD</td>\n",
       "      <td>United States of America</td>\n",
       "      <td>1</td>\n",
       "      <td>6</td>\n",
       "      <td>10</td>\n",
       "      <td>1.0</td>\n",
       "      <td>5</td>\n",
       "      <td>...</td>\n",
       "      <td>60.0415</td>\n",
       "      <td>60.0415</td>\n",
       "      <td>24.4250</td>\n",
       "      <td>24.4250</td>\n",
       "      <td>24.4250</td>\n",
       "      <td>24.4250</td>\n",
       "      <td>38</td>\n",
       "      <td>2</td>\n",
       "      <td>0.7813</td>\n",
       "      <td>22NOV13</td>\n",
       "    </tr>\n",
       "    <tr>\n",
       "      <th>410755</th>\n",
       "      <td>Massachusetts (USA)</td>\n",
       "      <td>8400300</td>\n",
       "      <td>QUC9797</td>\n",
       "      <td>Non-OECD</td>\n",
       "      <td>United States of America</td>\n",
       "      <td>1</td>\n",
       "      <td>7</td>\n",
       "      <td>10</td>\n",
       "      <td>1.0</td>\n",
       "      <td>6</td>\n",
       "      <td>...</td>\n",
       "      <td>60.6444</td>\n",
       "      <td>62.5699</td>\n",
       "      <td>20.2148</td>\n",
       "      <td>20.2148</td>\n",
       "      <td>20.2148</td>\n",
       "      <td>19.5218</td>\n",
       "      <td>38</td>\n",
       "      <td>2</td>\n",
       "      <td>0.7094</td>\n",
       "      <td>22NOV13</td>\n",
       "    </tr>\n",
       "  </tbody>\n",
       "</table>\n",
       "<p>7 rows × 635 columns</p>\n",
       "</div>"
      ],
      "text/plain": [
       "                        CNT  SUBNATIO  STRATUM      OECD  \\\n",
       "410749  Massachusetts (USA)   8400300  QUC9797  Non-OECD   \n",
       "410750  Massachusetts (USA)   8400300  QUC9797  Non-OECD   \n",
       "410751  Massachusetts (USA)   8400300  QUC9797  Non-OECD   \n",
       "410752  Massachusetts (USA)   8400300  QUC9797  Non-OECD   \n",
       "410753  Massachusetts (USA)   8400300  QUC9797  Non-OECD   \n",
       "410754  Massachusetts (USA)   8400300  QUC9797  Non-OECD   \n",
       "410755  Massachusetts (USA)   8400300  QUC9797  Non-OECD   \n",
       "\n",
       "                               NC  SCHOOLID  STIDSTD  ST01Q01  ST02Q01  \\\n",
       "410749  United States of America          1        1       10      1.0   \n",
       "410750  United States of America          1        2       10      1.0   \n",
       "410751  United States of America          1        3       10      1.0   \n",
       "410752  United States of America          1        4       10      1.0   \n",
       "410753  United States of America          1        5       10      1.0   \n",
       "410754  United States of America          1        6       10      1.0   \n",
       "410755  United States of America          1        7       10      1.0   \n",
       "\n",
       "        ST03Q01  ...  W_FSTR75 W_FSTR76 W_FSTR77  W_FSTR78 W_FSTR79 W_FSTR80  \\\n",
       "410749        1  ...   60.0415  60.0415  24.4250   24.4250  24.4250  24.4250   \n",
       "410750       11  ...   60.0415  60.0415  24.4250   24.4250  24.4250  24.4250   \n",
       "410751        4  ...   60.6444  62.5699  20.2148   20.2148  20.2148  19.5218   \n",
       "410752        8  ...   60.6444  62.5699  20.2148   20.2148  20.2148  19.5218   \n",
       "410753        4  ...   60.0415  60.0415  24.4250   24.4250  24.4250  24.4250   \n",
       "410754        5  ...   60.0415  60.0415  24.4250   24.4250  24.4250  24.4250   \n",
       "410755        6  ...   60.6444  62.5699  20.2148   20.2148  20.2148  19.5218   \n",
       "\n",
       "       WVARSTRR VAR_UNIT SENWGT_STU  VER_STU  \n",
       "410749       38        2     0.7813  22NOV13  \n",
       "410750       38        2     0.7813  22NOV13  \n",
       "410751       38        2     0.7094  22NOV13  \n",
       "410752       38        2     0.7094  22NOV13  \n",
       "410753       38        2     0.7813  22NOV13  \n",
       "410754       38        2     0.7813  22NOV13  \n",
       "410755       38        2     0.7094  22NOV13  \n",
       "\n",
       "[7 rows x 635 columns]"
      ]
     },
     "execution_count": 55,
     "metadata": {},
     "output_type": "execute_result"
    }
   ],
   "source": [
    "pisa[pisa.CNT == 'Massachusetts (USA)'].head(7)"
   ]
  },
  {
   "cell_type": "code",
   "execution_count": 69,
   "metadata": {},
   "outputs": [
    {
     "data": {
      "text/plain": [
       "5546"
      ]
     },
     "execution_count": 69,
     "metadata": {},
     "output_type": "execute_result"
    }
   ],
   "source": [
    "pisa[pisa.NC == 'Singapore'].CNT.count()"
   ]
  },
  {
   "cell_type": "code",
   "execution_count": 17,
   "metadata": {},
   "outputs": [
    {
     "data": {
      "text/html": [
       "<div>\n",
       "<style scoped>\n",
       "    .dataframe tbody tr th:only-of-type {\n",
       "        vertical-align: middle;\n",
       "    }\n",
       "\n",
       "    .dataframe tbody tr th {\n",
       "        vertical-align: top;\n",
       "    }\n",
       "\n",
       "    .dataframe thead th {\n",
       "        text-align: right;\n",
       "    }\n",
       "</style>\n",
       "<table border=\"1\" class=\"dataframe\">\n",
       "  <thead>\n",
       "    <tr style=\"text-align: right;\">\n",
       "      <th></th>\n",
       "      <th>STIDSTD</th>\n",
       "    </tr>\n",
       "    <tr>\n",
       "      <th>CNT</th>\n",
       "      <th></th>\n",
       "    </tr>\n",
       "  </thead>\n",
       "  <tbody>\n",
       "    <tr>\n",
       "      <th>Vietnam</th>\n",
       "      <td>4959</td>\n",
       "    </tr>\n",
       "    <tr>\n",
       "      <th>Uruguay</th>\n",
       "      <td>5315</td>\n",
       "    </tr>\n",
       "    <tr>\n",
       "      <th>United States of America</th>\n",
       "      <td>4978</td>\n",
       "    </tr>\n",
       "    <tr>\n",
       "      <th>United Kingdom</th>\n",
       "      <td>12659</td>\n",
       "    </tr>\n",
       "    <tr>\n",
       "      <th>United Arab Emirates</th>\n",
       "      <td>11500</td>\n",
       "    </tr>\n",
       "    <tr>\n",
       "      <th>...</th>\n",
       "      <td>...</td>\n",
       "    </tr>\n",
       "    <tr>\n",
       "      <th>Belgium</th>\n",
       "      <td>8597</td>\n",
       "    </tr>\n",
       "    <tr>\n",
       "      <th>Austria</th>\n",
       "      <td>4755</td>\n",
       "    </tr>\n",
       "    <tr>\n",
       "      <th>Australia</th>\n",
       "      <td>14481</td>\n",
       "    </tr>\n",
       "    <tr>\n",
       "      <th>Argentina</th>\n",
       "      <td>5908</td>\n",
       "    </tr>\n",
       "    <tr>\n",
       "      <th>Albania</th>\n",
       "      <td>4743</td>\n",
       "    </tr>\n",
       "  </tbody>\n",
       "</table>\n",
       "<p>68 rows × 1 columns</p>\n",
       "</div>"
      ],
      "text/plain": [
       "                          STIDSTD\n",
       "CNT                              \n",
       "Vietnam                      4959\n",
       "Uruguay                      5315\n",
       "United States of America     4978\n",
       "United Kingdom              12659\n",
       "United Arab Emirates        11500\n",
       "...                           ...\n",
       "Belgium                      8597\n",
       "Austria                      4755\n",
       "Australia                   14481\n",
       "Argentina                    5908\n",
       "Albania                      4743\n",
       "\n",
       "[68 rows x 1 columns]"
      ]
     },
     "execution_count": 17,
     "metadata": {},
     "output_type": "execute_result"
    }
   ],
   "source": [
    "#Number of records be country\n",
    "pisa[['CNT', 'STIDSTD']].groupby('CNT').count().sort_values('CNT', ascending=False)"
   ]
  },
  {
   "cell_type": "code",
   "execution_count": 22,
   "metadata": {},
   "outputs": [
    {
     "data": {
      "text/html": [
       "<div>\n",
       "<style scoped>\n",
       "    .dataframe tbody tr th:only-of-type {\n",
       "        vertical-align: middle;\n",
       "    }\n",
       "\n",
       "    .dataframe tbody tr th {\n",
       "        vertical-align: top;\n",
       "    }\n",
       "\n",
       "    .dataframe thead th {\n",
       "        text-align: right;\n",
       "    }\n",
       "</style>\n",
       "<table border=\"1\" class=\"dataframe\">\n",
       "  <thead>\n",
       "    <tr style=\"text-align: right;\">\n",
       "      <th></th>\n",
       "      <th>CNT</th>\n",
       "      <th>ST03Q01</th>\n",
       "      <th>ST03Q02</th>\n",
       "      <th>ST04Q01</th>\n",
       "      <th>ISCEDD</th>\n",
       "      <th>ISCEDL</th>\n",
       "      <th>ISCEDO</th>\n",
       "    </tr>\n",
       "  </thead>\n",
       "  <tbody>\n",
       "    <tr>\n",
       "      <th>0</th>\n",
       "      <td>Albania</td>\n",
       "      <td>2</td>\n",
       "      <td>1996</td>\n",
       "      <td>Female</td>\n",
       "      <td>A</td>\n",
       "      <td>ISCED level 3</td>\n",
       "      <td>General</td>\n",
       "    </tr>\n",
       "    <tr>\n",
       "      <th>1</th>\n",
       "      <td>Albania</td>\n",
       "      <td>2</td>\n",
       "      <td>1996</td>\n",
       "      <td>Female</td>\n",
       "      <td>A</td>\n",
       "      <td>ISCED level 3</td>\n",
       "      <td>General</td>\n",
       "    </tr>\n",
       "    <tr>\n",
       "      <th>2</th>\n",
       "      <td>Albania</td>\n",
       "      <td>9</td>\n",
       "      <td>1996</td>\n",
       "      <td>Female</td>\n",
       "      <td>A</td>\n",
       "      <td>ISCED level 2</td>\n",
       "      <td>General</td>\n",
       "    </tr>\n",
       "    <tr>\n",
       "      <th>3</th>\n",
       "      <td>Albania</td>\n",
       "      <td>8</td>\n",
       "      <td>1996</td>\n",
       "      <td>Female</td>\n",
       "      <td>A</td>\n",
       "      <td>ISCED level 2</td>\n",
       "      <td>General</td>\n",
       "    </tr>\n",
       "    <tr>\n",
       "      <th>4</th>\n",
       "      <td>Albania</td>\n",
       "      <td>10</td>\n",
       "      <td>1996</td>\n",
       "      <td>Female</td>\n",
       "      <td>A</td>\n",
       "      <td>ISCED level 2</td>\n",
       "      <td>General</td>\n",
       "    </tr>\n",
       "  </tbody>\n",
       "</table>\n",
       "</div>"
      ],
      "text/plain": [
       "       CNT  ST03Q01  ST03Q02 ST04Q01 ISCEDD         ISCEDL   ISCEDO\n",
       "0  Albania        2     1996  Female      A  ISCED level 3  General\n",
       "1  Albania        2     1996  Female      A  ISCED level 3  General\n",
       "2  Albania        9     1996  Female      A  ISCED level 2  General\n",
       "3  Albania        8     1996  Female      A  ISCED level 2  General\n",
       "4  Albania       10     1996  Female      A  ISCED level 2  General"
      ]
     },
     "execution_count": 22,
     "metadata": {},
     "output_type": "execute_result"
    }
   ],
   "source": [
    "pisa[['CNT', 'ST03Q01', 'ST03Q02', 'ST04Q01', 'ISCEDD', 'ISCEDL', 'ISCEDO']].head(5)"
   ]
  },
  {
   "cell_type": "markdown",
   "metadata": {},
   "source": [
    "\n"
   ]
  },
  {
   "cell_type": "code",
   "execution_count": 74,
   "metadata": {},
   "outputs": [
    {
     "data": {
      "text/plain": [
       "array([8400100, 8400200, 8400300, 8400000], dtype=int64)"
      ]
     },
     "execution_count": 74,
     "metadata": {},
     "output_type": "execute_result"
    }
   ],
   "source": [
    "pisa[pisa.NC == 'United States of America '].SUBNATIO.unique()"
   ]
  },
  {
   "cell_type": "code",
   "execution_count": 75,
   "metadata": {},
   "outputs": [],
   "source": []
  },
  {
   "cell_type": "code",
   "execution_count": 82,
   "metadata": {},
   "outputs": [
    {
     "data": {
      "image/png": "[encoded data removed]",
      "text/plain": [
       "<Figure size 432x288 with 1 Axes>"
      ]
     },
     "metadata": {
      "needs_background": "light"
     },
     "output_type": "display_data"
    }
   ],
   "source": [
    "base_color = sb.color_palette()[0]\n",
    "order = pisa_usa.ST04Q01.value_counts().index\n",
    "sb.countplot(data=pisa_usa, x='ST04Q01', color =base_color, order = order);\n",
    "#y= - for horizontal bar\n",
    "#plt.xticks(rotation = 90)"
   ]
  },
  {
   "cell_type": "code",
   "execution_count": null,
   "metadata": {},
   "outputs": [],
   "source": [
    "level_order = ['Alpha', 'Beta', 'Gamma', 'Delta']\n",
    "ordered_cat = pd.api.types.CategoricalDtype(ordered = True, categories = level_order)\n",
    "df['cat_var'] = df['cat_var'].astype(ordered_cat)"
   ]
  },
  {
   "cell_type": "markdown",
   "metadata": {},
   "source": [
    "### What is the structure of your dataset?\n",
    "\n",
    "> Your answer here!\n",
    "\n",
    "### What is/are the main feature(s) of interest in your dataset?\n",
    "\n",
    "> Your answer here!\n",
    "\n",
    "### What features in the dataset do you think will help support your investigation into your feature(s) of interest?\n",
    "\n",
    "> Your answer here!"
   ]
  },
  {
   "cell_type": "code",
   "execution_count": null,
   "metadata": {},
   "outputs": [],
   "source": []
  },
  {
   "cell_type": "markdown",
   "metadata": {},
   "source": [
    "## Univariate Exploration\n",
    "\n",
    "> In this section, investigate distributions of individual variables. If\n",
    "you see unusual points or outliers, take a deeper look to clean things up\n",
    "and prepare yourself to look at relationships between variables."
   ]
  },
  {
   "cell_type": "code",
   "execution_count": null,
   "metadata": {},
   "outputs": [],
   "source": []
  },
  {
   "cell_type": "markdown",
   "metadata": {},
   "source": [
    "> Make sure that, after every plot or related series of plots, that you\n",
    "include a Markdown cell with comments about what you observed, and what\n",
    "you plan on investigating next."
   ]
  },
  {
   "cell_type": "code",
   "execution_count": null,
   "metadata": {},
   "outputs": [],
   "source": []
  },
  {
   "cell_type": "markdown",
   "metadata": {},
   "source": [
    "### Discuss the distribution(s) of your variable(s) of interest. Were there any unusual points? Did you need to perform any transformations?\n",
    "\n",
    "> Your answer here!\n",
    "\n",
    "### Of the features you investigated, were there any unusual distributions? Did you perform any operations on the data to tidy, adjust, or change the form of the data? If so, why did you do this?\n",
    "\n",
    "> Your answer here!"
   ]
  },
  {
   "cell_type": "markdown",
   "metadata": {},
   "source": [
    "## Bivariate Exploration\n",
    "\n",
    "> In this section, investigate relationships between pairs of variables in your\n",
    "data. Make sure the variables that you cover here have been introduced in some\n",
    "fashion in the previous section (univariate exploration)."
   ]
  },
  {
   "cell_type": "code",
   "execution_count": null,
   "metadata": {},
   "outputs": [],
   "source": []
  },
  {
   "cell_type": "markdown",
   "metadata": {},
   "source": [
    "### Talk about some of the relationships you observed in this part of the investigation. How did the feature(s) of interest vary with other features in the dataset?\n",
    "\n",
    "> Your answer here!\n",
    "\n",
    "### Did you observe any interesting relationships between the other features (not the main feature(s) of interest)?\n",
    "\n",
    "> Your answer here!"
   ]
  },
  {
   "cell_type": "markdown",
   "metadata": {},
   "source": [
    "## Multivariate Exploration\n",
    "\n",
    "> Create plots of three or more variables to investigate your data even\n",
    "further. Make sure that your investigations are justified, and follow from\n",
    "your work in the previous sections."
   ]
  },
  {
   "cell_type": "code",
   "execution_count": null,
   "metadata": {},
   "outputs": [],
   "source": []
  },
  {
   "cell_type": "markdown",
   "metadata": {},
   "source": [
    "### Talk about some of the relationships you observed in this part of the investigation. Were there features that strengthened each other in terms of looking at your feature(s) of interest?\n",
    "\n",
    "> Your answer here!\n",
    "\n",
    "### Were there any interesting or surprising interactions between features?\n",
    "\n",
    "> Your answer here!"
   ]
  },
  {
   "cell_type": "markdown",
   "metadata": {},
   "source": [
    "> At the end of your report, make sure that you export the notebook as an\n",
    "html file from the `File > Download as... > HTML` menu. Make sure you keep\n",
    "track of where the exported file goes, so you can put it in the same folder\n",
    "as this notebook for project submission. Also, make sure you remove all of\n",
    "the quote-formatted guide notes like this one before you finish your report!"
   ]
  },
  {
   "cell_type": "code",
   "execution_count": null,
   "metadata": {},
   "outputs": [],
   "source": []
  },
  {
   "cell_type": "code",
   "execution_count": null,
   "metadata": {},
   "outputs": [],
   "source": []
  },
  {
   "cell_type": "markdown",
   "metadata": {},
   "source": [
    "## References"
   ]
  },
  {
   "cell_type": "markdown",
   "metadata": {},
   "source": [
    "https://pandas.pydata.org/pandas-docs/version/0.23.1/generated/pandas.read_csv.html <br>"
   ]
  },
  {
   "cell_type": "code",
   "execution_count": null,
   "metadata": {},
   "outputs": [],
   "source": []
  }
 ],
 "metadata": {
  "kernelspec": {
   "display_name": "Python 3",
   "language": "python",
   "name": "python3"
  },
  "language_info": {
   "codemirror_mode": {
    "name": "ipython",
    "version": 3
   },
   "file_extension": ".py",
   "mimetype": "text/x-python",
   "name": "python",
   "nbconvert_exporter": "python",
   "pygments_lexer": "ipython3",
   "version": "3.7.7"
  }
 },
 "nbformat": 4,
 "nbformat_minor": 2
}
